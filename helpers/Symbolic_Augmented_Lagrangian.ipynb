{
 "metadata": {
  "name": "",
  "signature": "sha256:2ce3de4cb8f076b8984320b132cd509c045fb97c74d1a89e9857976637f65618"
 },
 "nbformat": 3,
 "nbformat_minor": 0,
 "worksheets": [
  {
   "cells": [
    {
     "cell_type": "code",
     "collapsed": false,
     "input": [
      "import sympy\n",
      "from sympy import Symbol, diff, Matrix, pprint, MatrixSymbol, symbols\n",
      "\n",
      "def grad(fun, coords):\n",
      "    return Matrix([diff(fun, coord) for coord in coords])\n",
      "\n",
      "def hess(fun, coords):\n",
      "    dfun = grad(fun, coords)\n",
      "    return Matrix([ [diff(dfun[i], coord) for coord in coords]\n",
      "                    for i in range(len(dfun))])\n",
      "\n",
      "def Lc(fun, hfuns, lams, c):\n",
      "    retfun = fun\n",
      "    for i in range(len(lams)):\n",
      "        retfun = retfun + lams[i]*hfuns[i] + c/2*hfuns[i]**2\n",
      "    return retfun\n",
      "\n",
      "def dLc(fun, hfuns, lams, c, coords):\n",
      "    retfun = grad(fun, coords)\n",
      "    for i in range(len(lams)):\n",
      "        retfun += lams[i] * grad(hfuns[i], coords) + c*grad(hfuns[i], coords)*hfuns[i]\n",
      "    return retfun\n",
      "\n",
      "def ddLc(fun, hfuns, lams, c, coords):\n",
      "    dfun = dLc(fun, hfuns, lams, c, coords)\n",
      "    return Matrix([ [diff(dfun[i], coord) for coord in coords]\n",
      "                    for i in range(len(dfun))])\n"
     ],
     "language": "python",
     "outputs": [],
     "prompt_number": 1
    },
    {
     "cell_type": "code",
     "collapsed": false,
     "input": [
      "b = Symbol('b', real = True, positive = True)\n",
      "a = Symbol('a', real = True)\n",
      "lam = Symbol('\u03bb', real = True)\n",
      "c = Symbol('c', real = True, positive=True)\n",
      "x = Symbol('x', real = True)\n",
      "y = Symbol('y', real = True)\n",
      "\n",
      "def print_fun(fun, hfuns, lams, coords):\n",
      "    print('f(x, y):')\n",
      "    pprint(fun)\n",
      "    print('grad(f(x, y)):')\n",
      "    pprint(grad(fun, coords))\n",
      "    print('hess(f(x, y)):')\n",
      "    pprint(hess(fun, coords))\n",
      "    for i in range(len(hfuns)):\n",
      "        print('')\n",
      "        print('h_{}(x, y):'.format(i))\n",
      "        pprint(hfuns[i])\n",
      "        print('grad(h_{}(x, y)):'.format(i))\n",
      "        pprint(grad(hfuns[i], coords))\n",
      "        print('hess(h_{}(x, y)):'.format(i))\n",
      "        pprint(hess(hfuns[i], coords))\n",
      "    print('')\n",
      "    print('L(x, y, lam, c):')\n",
      "    pprint(Lc(f, hfuns, lams, c))\n",
      "    print('dL(x, y, lam, c):')\n",
      "    pprint(dLc(f, hfuns, lams, c, coords))\n",
      "    print('ddL(x, y, lam, c):')\n",
      "    pprint(ddLc(f, hfuns, lams, c, coords))\n",
      "\n",
      "f = b*x\n",
      "h = x+y*y -a\n",
      "print_fun(f, [h], [lam], [x, y])"
     ],
     "language": "python",
     "outputs": [
      {
       "output_type": "stream",
       "stream": "stdout",
       "text": [
        "f(x, y):\n",
        "b\u22c5x\n",
        "grad(f(x, y)):\n",
        "\u23a1b\u23a4\n",
        "\u23a2 \u23a5\n",
        "\u23a30\u23a6\n",
        "hess(f(x, y)):\n",
        "\u23a10  0\u23a4\n",
        "\u23a2    \u23a5\n",
        "\u23a30  0\u23a6\n",
        "\n",
        "h_0(x, y):\n",
        "          2\n",
        "-a + x + y \n",
        "grad(h_0(x, y)):\n",
        "\u23a1 1 \u23a4\n",
        "\u23a2   \u23a5\n",
        "\u23a32\u22c5y\u23a6\n",
        "hess(h_0(x, y)):\n",
        "\u23a10  0\u23a4\n",
        "\u23a2    \u23a5\n",
        "\u23a30  2\u23a6\n",
        "\n",
        "L(x, y, lam, c):\n",
        "                     2                  \n",
        "        \u239b          2\u239e                   \n",
        "      c\u22c5\u239d-a + x + y \u23a0      \u239b          2\u239e\n",
        "b\u22c5x + \u2500\u2500\u2500\u2500\u2500\u2500\u2500\u2500\u2500\u2500\u2500\u2500\u2500\u2500\u2500\u2500 + \u03bb\u22c5\u239d-a + x + y \u23a0\n",
        "             2                          \n",
        "dL(x, y, lam, c):\n",
        "\u23a1        \u239b          2\u239e      \u23a4\n",
        "\u23a2  b + c\u22c5\u239d-a + x + y \u23a0 + \u03bb  \u23a5\n",
        "\u23a2                           \u23a5\n",
        "\u23a2      \u239b          2\u239e        \u23a5\n",
        "\u23a32\u22c5c\u22c5y\u22c5\u239d-a + x + y \u23a0 + 2\u22c5y\u22c5\u03bb\u23a6\n",
        "ddL(x, y, lam, c):\n",
        "\u23a1  c                 2\u22c5c\u22c5y              \u23a4\n",
        "\u23a2                                       \u23a5\n",
        "\u23a2            2       \u239b          2\u239e      \u23a5\n",
        "\u23a32\u22c5c\u22c5y  4\u22c5c\u22c5y  + 2\u22c5c\u22c5\u239d-a + x + y \u23a0 + 2\u22c5\u03bb\u23a6\n"
       ]
      }
     ],
     "prompt_number": 2
    },
    {
     "cell_type": "code",
     "collapsed": false,
     "input": [
      "# example 20.5\n",
      "f = 2*(x**2 + y**2 - 1) - x\n",
      "h = [(x**2 + y**2 - 1)]\n",
      "print_fun(f, h, symbols('\u03bb:1'), [x, y])"
     ],
     "language": "python",
     "outputs": [
      {
       "output_type": "stream",
       "stream": "stdout",
       "text": [
        "f(x, y):\n",
        "   2          2    \n",
        "2\u22c5x  - x + 2\u22c5y  - 2\n",
        "grad(f(x, y)):\n",
        "\u23a14\u22c5x - 1\u23a4\n",
        "\u23a2       \u23a5\n",
        "\u23a3  4\u22c5y  \u23a6\n",
        "hess(f(x, y)):\n",
        "\u23a14  0\u23a4\n",
        "\u23a2    \u23a5\n",
        "\u23a30  4\u23a6\n",
        "\n",
        "h_0(x, y):\n",
        " 2    2    \n",
        "x  + y  - 1\n",
        "grad(h_0(x, y)):\n",
        "\u23a12\u22c5x\u23a4\n",
        "\u23a2   \u23a5\n",
        "\u23a32\u22c5y\u23a6\n",
        "hess(h_0(x, y)):\n",
        "\u23a12  0\u23a4\n",
        "\u23a2    \u23a5\n",
        "\u23a30  2\u23a6\n",
        "\n",
        "L(x, y, lam, c):\n",
        "               2                                         \n",
        "  \u239b 2    2    \u239e                                          \n",
        "c\u22c5\u239dx  + y  - 1\u23a0       2          2      \u239b 2    2    \u239e    \n",
        "\u2500\u2500\u2500\u2500\u2500\u2500\u2500\u2500\u2500\u2500\u2500\u2500\u2500\u2500\u2500\u2500 + 2\u22c5x  - x + 2\u22c5y  + \u03bb0\u22c5\u239dx  + y  - 1\u23a0 - 2\n",
        "       2                                                 \n",
        "dL(x, y, lam, c):\n",
        "\u23a1      \u239b 2    2    \u239e                   \u23a4\n",
        "\u23a22\u22c5c\u22c5x\u22c5\u239dx  + y  - 1\u23a0 + 2\u22c5x\u22c5\u03bb0 + 4\u22c5x - 1\u23a5\n",
        "\u23a2                                      \u23a5\n",
        "\u23a2        \u239b 2    2    \u239e                 \u23a5\n",
        "\u23a3  2\u22c5c\u22c5y\u22c5\u239dx  + y  - 1\u23a0 + 2\u22c5y\u22c5\u03bb0 + 4\u22c5y  \u23a6\n",
        "ddL(x, y, lam, c):\n",
        "\u23a1     2       \u239b 2    2    \u239e                                                  \u23a4\n",
        "\u23a24\u22c5c\u22c5x  + 2\u22c5c\u22c5\u239dx  + y  - 1\u23a0 + 2\u22c5\u03bb0 + 4                 4\u22c5c\u22c5x\u22c5y               \u23a5\n",
        "\u23a2                                                                            \u23a5\n",
        "\u23a2                                            2       \u239b 2    2    \u239e           \u23a5\n",
        "\u23a3               4\u22c5c\u22c5x\u22c5y                 4\u22c5c\u22c5y  + 2\u22c5c\u22c5\u239dx  + y  - 1\u23a0 + 2\u22c5\u03bb0 + 4\u23a6\n"
       ]
      }
     ],
     "prompt_number": 3
    },
    {
     "cell_type": "code",
     "collapsed": false,
     "input": [
      "sympy.pretty(f)"
     ],
     "language": "python",
     "outputs": [
      {
       "output_type": "pyout",
       "prompt_number": 4,
       "text": [
        "'   2          2    \\n2\u22c5x  - x + 2\u22c5y  - 2'"
       ]
      }
     ],
     "prompt_number": 4
    },
    {
     "cell_type": "code",
     "collapsed": false,
     "input": [
      "from sympy import pretty\n",
      "import numpy as np\n",
      "import scipy.optimize\n",
      "class augmented_algo(object):\n",
      "    def __init__(self, fun, h_list, coords, coords0):\n",
      "        self.fun = fun\n",
      "        self.hfuns = h_list\n",
      "        self.coords = coords\n",
      "        self.coords0 = coords0\n",
      "        self.lams = symbols('\u03bb:{}'.format(len(self.hfuns)))\n",
      "        self.c = symbols('c', positive=True)\n",
      "        self.Lc = Lc(self.fun, self.hfuns, self.lams, self.c)\n",
      "        self.dLc = dLc(self.fun, self.hfuns, self.lams, self.c, self.coords)\n",
      "        self.ddLc = ddLc(self.fun, self.hfuns, self.lams, self.c, self.coords)\n",
      "\n",
      "        self.x_val = self.coords0\n",
      "        self.c_val = 10.\n",
      "        self.lam_val = [0. for _ in range(len(self.hfuns))]\n",
      "        self.tau_val = 10\n",
      "        self.alpha_val = .1\n",
      "        self.beta_val = .9\n",
      "        self.eta0_val = .1258925\n",
      "        self.eta_val = 1/self.c_val**self.alpha_val\n",
      "        self.eps_val = 1e-8\n",
      "        self.eps_k_val = 1/self.c_val\n",
      "\n",
      "    def __repr__(self):\n",
      "        fun_str = pretty(self.fun)\n",
      "        hfun_strs = [pretty(h) for h in self.hfuns]\n",
      "        lag_str = pretty(self.Lc)\n",
      "        outstr = []\n",
      "        coord_str = ', '.join((pretty(c) for c in self.coords))\n",
      "        outstr.append('f({}) ='.format(coord_str))\n",
      "        outstr.append(fun_str)\n",
      "        outstr.append('')\n",
      "        outstr.append('h({}) ='.format(coord_str))\n",
      "        for hf in hfun_strs:\n",
      "            outstr.append(hf)\n",
      "        outstr.append('')\n",
      "        outstr.append('L_c(({}), ({})) = '.format(\n",
      "            coord_str, ', '.join((pretty(c) for c in self.lams))))\n",
      "        outstr.append(lag_str)\n",
      "        return '\\n'.join(outstr)\n",
      "\n",
      "    def numeric_Lc(self):\n",
      "        subs = {lam: lam_val for lam, lam_val in zip(self.lams, self.lam_val)}\n",
      "        subs[self.c] = self.c_val\n",
      "        fun_val = sympy.utilities.lambdify(\n",
      "            self.coords,\n",
      "            self.Lc.subs(subs),\n",
      "            modules='numpy')\n",
      "        h_val = sympy.utilities.lambdify(self.coords, self.\n",
      "        return fun_val, h_val\n",
      "\n",
      "    def iteration(self):\n",
      "        fun_val, h_val = self.numeric_Lc()\n",
      "        # 1 solve local prob\n",
      "        result = scipy.optimize.minimize(\n",
      "            lambda x: fun_val(*x), self.x_val, tol = self.eps_k_val)\n",
      "        print('success = {}'.format(result.success))\n",
      "        print('message = {}'.format(result.message))\n",
      "        print('solution = {}'.format(result.x))\n",
      "\n",
      "        # 2 test convergence"
     ],
     "language": "python",
     "outputs": [],
     "prompt_number": 5
    },
    {
     "cell_type": "code",
     "collapsed": false,
     "input": [
      "aa = augmented_algo(f, h, [x, y], (0., 0.))\n",
      "aa.iteration()"
     ],
     "language": "python",
     "outputs": [
      {
       "output_type": "stream",
       "stream": "stdout",
       "text": [
        "success = True\n",
        "message = Optimization terminated successfully.\n",
        "solution = [  9.22835211e-01   1.06536698e-07]\n"
       ]
      }
     ],
     "prompt_number": 6
    },
    {
     "cell_type": "code",
     "collapsed": false,
     "input": [
      "a = Symbol('a')\n",
      "b = Symbol('b')\n",
      "f = a\n",
      "f"
     ],
     "language": "python",
     "outputs": [
      {
       "output_type": "pyout",
       "prompt_number": 7,
       "text": [
        "a"
       ]
      }
     ],
     "prompt_number": 7
    },
    {
     "cell_type": "code",
     "collapsed": false,
     "input": [
      "f += b\n",
      "f"
     ],
     "language": "python",
     "outputs": [
      {
       "output_type": "pyout",
       "prompt_number": 14,
       "text": [
        "a + 7*b"
       ]
      }
     ],
     "prompt_number": 14
    },
    {
     "cell_type": "code",
     "collapsed": false,
     "input": [
      "a.shape\n"
     ],
     "language": "python",
     "outputs": [
      {
       "output_type": "pyout",
       "prompt_number": 6,
       "text": [
        "(3, 1)"
       ]
      }
     ],
     "prompt_number": 6
    },
    {
     "cell_type": "code",
     "collapsed": false,
     "input": [],
     "language": "python",
     "outputs": []
    }
   ]
  }
 ]
}