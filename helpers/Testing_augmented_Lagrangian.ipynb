{
 "metadata": {
  "name": "",
  "signature": "sha256:8b5d9e67c4b5fb301809cb5fd21cb628dcb8ba4663460cd2ecc9d846fc370c45"
 },
 "nbformat": 3,
 "nbformat_minor": 0,
 "worksheets": [
  {
   "cells": [
    {
     "cell_type": "heading",
     "level": 1,
     "source": [
      "Testing the Augmented Lagrangian of PyPyContact"
     ]
    },
    {
     "cell_type": "markdown",
     "source": [
      "The implementation of the augmented Lagrangian in PyPyContact.Tools follows closely the description of the `LANCELOT` algorithm described in Bierlaire (2006)"
     ]
    },
    {
     "cell_type": "code",
     "collapsed": false,
     "input": [
      "import sys\n",
      "import os\n",
      "sys.path.append(os.path.join(os.getcwd(), \"../PyPyContact/Tools/\"))\n",
      "sys.path"
     ],
     "language": "python",
     "outputs": [
      {
       "output_type": "pyout",
       "prompt_number": 5,
       "text": [
        "['',\n",
        " '/work1/home/junge/.local/lib/python3.4/site-packages/netCDF4-1.1.7-py3.4-linux-x86_64.egg',\n",
        " '/usr/lib/python3/dist-packages',\n",
        " '/work1/home/junge/.local/lib/python3.4/site-packages/PyPyContact-0.1-py3.4.egg',\n",
        " '/usr/lib/python3.4',\n",
        " '/usr/lib/python3.4/plat-x86_64-linux-gnu',\n",
        " '/usr/lib/python3.4/lib-dynload',\n",
        " '/work1/home/junge/.local/lib/python3.4/site-packages',\n",
        " '/usr/local/lib/python3.4/dist-packages',\n",
        " '/usr/lib/python3/dist-packages/IPython/extensions',\n",
        " '/work1/home/junge/.emacs.d/elpa/ein-20150826.1900/',\n",
        " '/work1/home/junge/Programme/Kit/junge_projects/PyPyContact/helpers/../PyPyContact/Tools/']"
       ]
      }
     ],
     "prompt_number": 5
    },
    {
     "cell_type": "code",
     "collapsed": false,
     "input": [
      "from AugmentedLagrangian import augmented_lagrangian"
     ],
     "language": "python",
     "outputs": []
    }
   ]
  }
 ]
}