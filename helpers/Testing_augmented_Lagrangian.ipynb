{
 "metadata": {
  "name": "",
  "signature": "sha256:b4f77a41db4b2f0f6b158e42c37cdbac2ccc0493095746053340e0ae7a8df7f8"
 },
 "nbformat": 3,
 "nbformat_minor": 0,
 "worksheets": [
  {
   "cells": [
    {
     "cell_type": "heading",
     "level": 1,
     "source": [
      "Testing the Augmented Lagrangian of PyPyContact"
     ]
    },
    {
     "cell_type": "markdown",
     "source": [
      "The implementation of the augmented Lagrangian in PyPyContact.Tools follows closely the description of the `LANCELOT` algorithm described in Bierlaire (2006)"
     ]
    },
    {
     "cell_type": "markdown",
     "source": [
      "The function `augmented_lagrangian` has the form of custom minimizer for [scipy.optimize.minimize](http://docs.scipy.org/doc/scipy-0.14.0/reference/generated/scipy.optimize.minimize.html)"
     ]
    },
    {
     "cell_type": "code",
     "collapsed": false,
     "input": [
      "import sys\n",
      "import os\n",
      "import numpy as np\n",
      "\n",
      "import scipy.optimize\n",
      "sys.path.append(os.path.join(os.getcwd(), \"../PyPyContact/Tools/\"))\n",
      "from AugmentedLagrangian import augmented_lagrangian"
     ],
     "language": "python",
     "outputs": [],
     "prompt_number": 1
    },
    {
     "cell_type": "heading",
     "level": 2,
     "source": [
      "Book example"
     ]
    },
    {
     "cell_type": "markdown",
     "source": [
      "Example 20.5: Minimise the fuction $f(x)$\n",
      "$$\\min_{x\\in\\mathbb{R}^2} 2(x_1^2+x_2^2 -1)-x_1$$\n",
      "under the constraint\n",
      "$$ x_1^2 + x_2^2 = 1$$"
     ]
    },
    {
     "cell_type": "code",
     "collapsed": false,
     "input": [
      "def fun(x):\n",
      "    return (x[0]**2 + x[1]**2 - 1) - x[0]\n",
      "def constraint(x):\n",
      "    return x[0]**2 + x[1]**2 - 1\n",
      "result = scipy.optimize.minimize(fun, x0=np.array((-1, .1)),\n",
      "       \t constraints={'type':'eq','fun':constraint},\n",
      "\t method=augmented_lagrangian,\n",
      "\t options={'multiplier0':np.array((0)), 'verbose':True})"
     ],
     "language": "python",
     "outputs": [
      {
       "ename": "Exception",
       "evalue": "evaluation of dual objective function failed with the following message: 'b'STOP: TOTAL NO. of ITERATIONS EXCEEDS LIMIT''. The full result is\n     nfev: 87\n      fun: -1.0109930956424331\n      nit: 21\n  message: b'STOP: TOTAL NO. of ITERATIONS EXCEEDS LIMIT'\n hess_inv: <2x2 LbfgsInvHessProduct with dtype=float64>\n   status: 1\n      jac: array([ 0.27987497,  0.02611469])\n        x: array([ 0.98221722,  0.02004124])\n  success: False",
       "output_type": "pyerr",
       "traceback": [
        "\u001b[0;31m---------------------------------------------------------------------------\u001b[0m\n\u001b[0;31mException\u001b[0m                                 Traceback (most recent call last)",
        "\u001b[0;32m<ipython-input-2-d6806f17fbf8>\u001b[0m in \u001b[0;36m<module>\u001b[0;34m()\u001b[0m\n\u001b[1;32m      6\u001b[0m          \u001b[0mconstraints\u001b[0m\u001b[0;34m=\u001b[0m\u001b[0;34m{\u001b[0m\u001b[0;34m'type'\u001b[0m\u001b[0;34m:\u001b[0m\u001b[0;34m'eq'\u001b[0m\u001b[0;34m,\u001b[0m\u001b[0;34m'fun'\u001b[0m\u001b[0;34m:\u001b[0m\u001b[0mconstraint\u001b[0m\u001b[0;34m}\u001b[0m\u001b[0;34m,\u001b[0m\u001b[0;34m\u001b[0m\u001b[0m\n\u001b[1;32m      7\u001b[0m          \u001b[0mmethod\u001b[0m\u001b[0;34m=\u001b[0m\u001b[0maugmented_lagrangian\u001b[0m\u001b[0;34m,\u001b[0m\u001b[0;34m\u001b[0m\u001b[0m\n\u001b[0;32m----> 8\u001b[0;31m \t options={'multiplier0':np.array((0)), 'verbose':True})\n\u001b[0m",
        "\u001b[0;32m/usr/lib/python3/dist-packages/scipy/optimize/_minimize.py\u001b[0m in \u001b[0;36mminimize\u001b[0;34m(fun, x0, args, method, jac, hess, hessp, bounds, constraints, tol, callback, options)\u001b[0m\n\u001b[1;32m    428\u001b[0m         return method(fun, x0, args=args, jac=jac, hess=hess, hessp=hessp,\n\u001b[1;32m    429\u001b[0m                       \u001b[0mbounds\u001b[0m\u001b[0;34m=\u001b[0m\u001b[0mbounds\u001b[0m\u001b[0;34m,\u001b[0m \u001b[0mconstraints\u001b[0m\u001b[0;34m=\u001b[0m\u001b[0mconstraints\u001b[0m\u001b[0;34m,\u001b[0m\u001b[0;34m\u001b[0m\u001b[0m\n\u001b[0;32m--> 430\u001b[0;31m                       callback=callback, **options)\n\u001b[0m\u001b[1;32m    431\u001b[0m     \u001b[0;32melif\u001b[0m \u001b[0mmeth\u001b[0m \u001b[0;34m==\u001b[0m \u001b[0;34m'nelder-mead'\u001b[0m\u001b[0;34m:\u001b[0m\u001b[0;34m\u001b[0m\u001b[0m\n\u001b[1;32m    432\u001b[0m         \u001b[0;32mreturn\u001b[0m \u001b[0m_minimize_neldermead\u001b[0m\u001b[0;34m(\u001b[0m\u001b[0mfun\u001b[0m\u001b[0;34m,\u001b[0m \u001b[0mx0\u001b[0m\u001b[0;34m,\u001b[0m \u001b[0margs\u001b[0m\u001b[0;34m,\u001b[0m \u001b[0mcallback\u001b[0m\u001b[0;34m,\u001b[0m \u001b[0;34m**\u001b[0m\u001b[0moptions\u001b[0m\u001b[0;34m)\u001b[0m\u001b[0;34m\u001b[0m\u001b[0m\n",
        "\u001b[0;32m/home/junge/Programme/Kit/junge_projects/PyPyContact/PyPyContact/Tools/AugmentedLagrangian.py\u001b[0m in \u001b[0;36maugmented_lagrangian\u001b[0;34m(fun, x0, args, constraints, tol, update_tol0, multiplier0, penalty0, alpha, beta, tau, min_method, callback, verbose, bounds, jac, hessp, hess, **options)\u001b[0m\n\u001b[1;32m    172\u001b[0m                 (\"evaluation of dual objective function failed with the \"\n\u001b[1;32m    173\u001b[0m                  \u001b[0;34m\"following message: '{}'. The full result is\\n{}\"\u001b[0m\u001b[0;34m)\u001b[0m\u001b[0;34m.\u001b[0m\u001b[0mformat\u001b[0m\u001b[0;34m(\u001b[0m\u001b[0;34m\u001b[0m\u001b[0m\n\u001b[0;32m--> 174\u001b[0;31m                      iterate.message, iterate))\n\u001b[0m\u001b[1;32m    175\u001b[0m         \u001b[0mx\u001b[0m \u001b[0;34m=\u001b[0m \u001b[0miterate\u001b[0m\u001b[0;34m.\u001b[0m\u001b[0mx\u001b[0m\u001b[0;34m\u001b[0m\u001b[0m\n\u001b[1;32m    176\u001b[0m         \u001b[0mconstraints_eval\u001b[0m \u001b[0;34m=\u001b[0m \u001b[0mconstraints\u001b[0m\u001b[0;34m(\u001b[0m\u001b[0mx\u001b[0m\u001b[0;34m,\u001b[0m \u001b[0;34m*\u001b[0m\u001b[0margs\u001b[0m\u001b[0;34m)\u001b[0m\u001b[0;34m\u001b[0m\u001b[0m\n",
        "\u001b[0;31mException\u001b[0m: evaluation of dual objective function failed with the following message: 'b'STOP: TOTAL NO. of ITERATIONS EXCEEDS LIMIT''. The full result is\n     nfev: 87\n      fun: -1.0109930956424331\n      nit: 21\n  message: b'STOP: TOTAL NO. of ITERATIONS EXCEEDS LIMIT'\n hess_inv: <2x2 LbfgsInvHessProduct with dtype=float64>\n   status: 1\n      jac: array([ 0.27987497,  0.02611469])\n        x: array([ 0.98221722,  0.02004124])\n  success: False"
       ]
      }
     ],
     "prompt_number": 2
    },
    {
     "cell_type": "code",
     "collapsed": false,
     "input": [
      "result"
     ],
     "language": "python",
     "outputs": []
    },
    {
     "cell_type": "code",
     "collapsed": false,
     "input": [],
     "language": "python",
     "outputs": []
    }
   ]
  }
 ]
}