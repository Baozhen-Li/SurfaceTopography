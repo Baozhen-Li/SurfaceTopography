
h1:
Testing the Augmented Lagrangian of PyPyContact

markdown:
The implementation of the augmented Lagrangian in PyPyContact.Tools follows closely the description of the `LANCELOT` algorithm described in Bierlaire (2006)

markdown:
The function `augmented_lagrangian` has the form of custom minimizer for [scipy.optimize.minimize](http://docs.scipy.org/doc/scipy-0.14.0/reference/generated/scipy.optimize.minimize.html)

In [21]:
import sys
import os
import numpy as np

import scipy.optimize
sys.path.append(os.path.join(os.getcwd(), "../PyPyContact/Tools/"))
#from AugmentedLagrangian import augmented_lagrangian

h2:
Book example

markdown:
Example 20.5: Minimise the fuction $f(x)$
$$\min_{x\in\mathbb{R}^2} 2(x_1^2+x_2^2 -1)-x_1$$
under the constraint
$$ x_1^2 + x_2^2 = 1$$

markdown:
ugly workaround to get a fresh AugmentedLagrangian without module loads

In [26]:
fname = "../PyPyContact/Tools/AugmentedLagrangian.py"
with open(fname) as filehandle:
    content = ''.join((line for line in filehandle))
exec(content)

In [35]:
def fun(x):
    return (x[0]**2 + x[1]**2 - 1) - x[0]
def constraint(x):
    return x[0]**2 + x[1]**2 - 1
tol = 1.e-2
result = scipy.optimize.minimize(fun, x0=np.array((-1, .1)),
       	                         constraints={'type':'eq','fun':constraint},
	                         method=augmented_lagrangian, tol=tol,
	                         options={'multiplier0': np.array((0.)),
                                      'store_iterates': 'iterate'})

In [36]:
%matplotlib inline
import matplotlib.pyplot as plt
iterates = np.array([iterate.x for iterate in result.iterates])
print(iterates)
plt.plot(iterates[:, 0], iterates[:, 1])
[[ -9.11285550e-01   9.68048901e-02]
 [ -1.42119126e-01   9.70675674e-01]
 [  9.97014321e-01   9.33140989e-04]
 [  1.01563405e+00   9.43711119e-04]]

Out [36]:
[<matplotlib.lines.Line2D at 0x7efcbd363358>]
 

In [40]:
np.isfinite?

h2:
Reproducing the example exactly

In [15]:
import sympy

x1 = sympy.Symbol('x1', real=True)
x2 = sympy.Symbol('x2', real=True)

f = 2*(x1**2 + x2**2 -1) -x1
h = x1**2 + x2**2 -1
h2 = h**2

In [16]:
df = sympy.Matrix(((sympy.diff(f, x1),),(sympy.diff(f, x2),)))
sympy.pprint(df)
dh = sympy.Matrix(((sympy.diff(h, x1),),(sympy.diff(h, x2),)))
sympy.pprint(dh)
dh2 = sympy.Matrix(((sympy.diff(h2, x1),),(sympy.diff(h2, x2),)))
sympy.pprint(dh2)

⎡4⋅x₁ - 1⎤
⎢        ⎥
⎣  4⋅x₂  ⎦
⎡2⋅x₁⎤
⎢    ⎥
⎣2⋅x₂⎦
⎡     ⎛  2     2    ⎞⎤
⎢4⋅x₁⋅⎝x₁  + x₂  - 1⎠⎥
⎢                    ⎥
⎢     ⎛  2     2    ⎞⎥
⎣4⋅x₂⋅⎝x₁  + x₂  - 1⎠⎦


In [17]:
ddf = sympy.Matrix([[sympy.diff(df[0], x1), sympy.diff(df[0], x2)],[sympy.diff(df[1], x1), sympy.diff(df[1], x2)]])
sympy.pprint(ddf)
ddh = sympy.Matrix([[sympy.diff(dh[0], x1), sympy.diff(dh[0], x2)],[sympy.diff(dh[1], x1), sympy.diff(dh[1], x2)]])
sympy.pprint(ddh)
ddh2 = sympy.Matrix([[sympy.diff(dh2[0], x1), sympy.diff(dh2[0], x2)],[sympy.diff(dh2[1], x1), sympy.diff(dh2[1], x2)]])
sympy.pprint(ddh2)

⎡4  0⎤
⎢    ⎥
⎣0  4⎦
⎡2  0⎤
⎢    ⎥
⎣0  2⎦
⎡     2       2                        ⎤
⎢12⋅x₁  + 4⋅x₂  - 4       8⋅x₁⋅x₂      ⎥
⎢                                      ⎥
⎢                        2        2    ⎥
⎣     8⋅x₁⋅x₂        4⋅x₁  + 12⋅x₂  - 4⎦


