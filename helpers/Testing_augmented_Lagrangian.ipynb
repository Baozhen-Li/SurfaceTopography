{
 "metadata": {
  "name": "",
  "signature": "sha256:44647234cdd7170dbb351459f4a7107f421f6d4afa97046f33c5ceacaf8775e9"
 },
 "nbformat": 3,
 "nbformat_minor": 0,
 "worksheets": [
  {
   "cells": [
    {
     "cell_type": "heading",
     "level": 1,
     "source": [
      "Testing the Augmented Lagrangian of PyPyContact"
     ]
    },
    {
     "cell_type": "markdown",
     "source": [
      "The implementation of the augmented Lagrangian in PyPyContact.Tools follows closely the description of the `LANCELOT` algorithm described in Bierlaire (2006)"
     ]
    },
    {
     "cell_type": "markdown",
     "source": [
      "The function `augmented_lagrangian` has the form of custom minimizer for [scipy.optimize.minimize](http://docs.scipy.org/doc/scipy-0.14.0/reference/generated/scipy.optimize.minimize.html)"
     ]
    },
    {
     "cell_type": "code",
     "collapsed": false,
     "input": [
      "import sys\n",
      "import os\n",
      "import numpy as np\n",
      "\n",
      "import scipy.optimize\n",
      "sys.path.append(os.path.join(os.getcwd(), \"../PyPyContact/Tools/\"))\n",
      "#from AugmentedLagrangian import augmented_lagrangian"
     ],
     "language": "python",
     "outputs": [],
     "prompt_number": 21
    },
    {
     "cell_type": "heading",
     "level": 2,
     "source": [
      "Book example"
     ]
    },
    {
     "cell_type": "markdown",
     "source": [
      "Example 20.5: Minimise the fuction $f(x)$\n",
      "$$\\min_{x\\in\\mathbb{R}^2} 2(x_1^2+x_2^2 -1)-x_1$$\n",
      "under the constraint\n",
      "$$ x_1^2 + x_2^2 = 1$$"
     ]
    },
    {
     "cell_type": "markdown",
     "source": [
      "ugly workaround to get a fresh AugmentedLagrangian without module loads"
     ]
    },
    {
     "cell_type": "code",
     "collapsed": false,
     "input": [
      "fname = \"../PyPyContact/Tools/AugmentedLagrangian.py\"\n",
      "with open(fname) as filehandle:\n",
      "    content = ''.join((line for line in filehandle))\n",
      "exec(content)"
     ],
     "language": "python",
     "outputs": [],
     "prompt_number": 26
    },
    {
     "cell_type": "code",
     "collapsed": false,
     "input": [
      "def fun(x):\n",
      "    return (x[0]**2 + x[1]**2 - 1) - x[0]\n",
      "def constraint(x):\n",
      "    return x[0]**2 + x[1]**2 - 1\n",
      "tol = 1.e-2\n",
      "result = scipy.optimize.minimize(fun, x0=np.array((-1, .1)),\n",
      "       \t                         constraints={'type':'eq','fun':constraint},\n",
      "\t                         method=augmented_lagrangian, tol=tol,\n",
      "\t                         options={'multiplier0': np.array((0.)),\n",
      "                                      'store_iterates': 'iterate'})"
     ],
     "language": "python",
     "outputs": [],
     "prompt_number": 35
    },
    {
     "cell_type": "code",
     "collapsed": false,
     "input": [
      "%matplotlib inline\n",
      "import matplotlib.pyplot as plt\n",
      "iterates = np.array([iterate.x for iterate in result.iterates])\n",
      "print(iterates)\n",
      "plt.plot(iterates[:, 0], iterates[:, 1])"
     ],
     "language": "python",
     "outputs": [
      {
       "output_type": "stream",
       "stream": "stdout",
       "text": [
        "[[ -9.11285550e-01   9.68048901e-02]\n",
        " [ -1.42119126e-01   9.70675674e-01]\n",
        " [  9.97014321e-01   9.33140989e-04]\n",
        " [  1.01563405e+00   9.43711119e-04]]\n"
       ]
      },
      {
       "output_type": "pyout",
       "prompt_number": 36,
       "text": [
        "[<matplotlib.lines.Line2D at 0x7efcbd363358>]"
       ]
      },
      {
       "output_type": "display_data",
       "png": "[encoded data removed]",
       "text": [
        "<matplotlib.figure.Figure at 0x7efcbd393e80>"
       ]
      }
     ],
     "prompt_number": 36
    },
    {
     "cell_type": "code",
     "collapsed": false,
     "input": [
      "np.isfinite?"
     ],
     "language": "python",
     "outputs": [],
     "prompt_number": 40
    },
    {
     "cell_type": "heading",
     "level": 2,
     "source": [
      "Reproducing the example exactly"
     ]
    },
    {
     "cell_type": "code",
     "collapsed": false,
     "input": [
      "import sympy\n",
      "\n",
      "x1 = sympy.Symbol('x1', real=True)\n",
      "x2 = sympy.Symbol('x2', real=True)\n",
      "\n",
      "f = 2*(x1**2 + x2**2 -1) -x1\n",
      "h = x1**2 + x2**2 -1\n",
      "h2 = h**2"
     ],
     "language": "python",
     "outputs": [],
     "prompt_number": 15
    },
    {
     "cell_type": "code",
     "collapsed": false,
     "input": [
      "df = sympy.Matrix(((sympy.diff(f, x1),),(sympy.diff(f, x2),)))\n",
      "sympy.pprint(df)\n",
      "dh = sympy.Matrix(((sympy.diff(h, x1),),(sympy.diff(h, x2),)))\n",
      "sympy.pprint(dh)\n",
      "dh2 = sympy.Matrix(((sympy.diff(h2, x1),),(sympy.diff(h2, x2),)))\n",
      "sympy.pprint(dh2)\n"
     ],
     "language": "python",
     "outputs": [
      {
       "output_type": "stream",
       "stream": "stdout",
       "text": [
        "\u23a14\u22c5x\u2081 - 1\u23a4\n",
        "\u23a2        \u23a5\n",
        "\u23a3  4\u22c5x\u2082  \u23a6\n",
        "\u23a12\u22c5x\u2081\u23a4\n",
        "\u23a2    \u23a5\n",
        "\u23a32\u22c5x\u2082\u23a6\n",
        "\u23a1     \u239b  2     2    \u239e\u23a4\n",
        "\u23a24\u22c5x\u2081\u22c5\u239dx\u2081  + x\u2082  - 1\u23a0\u23a5\n",
        "\u23a2                    \u23a5\n",
        "\u23a2     \u239b  2     2    \u239e\u23a5\n",
        "\u23a34\u22c5x\u2082\u22c5\u239dx\u2081  + x\u2082  - 1\u23a0\u23a6\n"
       ]
      }
     ],
     "prompt_number": 16
    },
    {
     "cell_type": "code",
     "collapsed": false,
     "input": [
      "ddf = sympy.Matrix([[sympy.diff(df[0], x1), sympy.diff(df[0], x2)],[sympy.diff(df[1], x1), sympy.diff(df[1], x2)]])\n",
      "sympy.pprint(ddf)\n",
      "ddh = sympy.Matrix([[sympy.diff(dh[0], x1), sympy.diff(dh[0], x2)],[sympy.diff(dh[1], x1), sympy.diff(dh[1], x2)]])\n",
      "sympy.pprint(ddh)\n",
      "ddh2 = sympy.Matrix([[sympy.diff(dh2[0], x1), sympy.diff(dh2[0], x2)],[sympy.diff(dh2[1], x1), sympy.diff(dh2[1], x2)]])\n",
      "sympy.pprint(ddh2)\n"
     ],
     "language": "python",
     "outputs": [
      {
       "output_type": "stream",
       "stream": "stdout",
       "text": [
        "\u23a14  0\u23a4\n",
        "\u23a2    \u23a5\n",
        "\u23a30  4\u23a6\n",
        "\u23a12  0\u23a4\n",
        "\u23a2    \u23a5\n",
        "\u23a30  2\u23a6\n",
        "\u23a1     2       2                        \u23a4\n",
        "\u23a212\u22c5x\u2081  + 4\u22c5x\u2082  - 4       8\u22c5x\u2081\u22c5x\u2082      \u23a5\n",
        "\u23a2                                      \u23a5\n",
        "\u23a2                        2        2    \u23a5\n",
        "\u23a3     8\u22c5x\u2081\u22c5x\u2082        4\u22c5x\u2081  + 12\u22c5x\u2082  - 4\u23a6\n"
       ]
      }
     ],
     "prompt_number": 17
    }
   ]
  }
 ]
}